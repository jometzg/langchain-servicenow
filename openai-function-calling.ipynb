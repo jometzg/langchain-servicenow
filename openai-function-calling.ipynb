{
 "cells": [
  {
   "cell_type": "markdown",
   "metadata": {},
   "source": [
    "# Function Calling\n",
    "This demonstration build upon demonstrations built by Mark Whitby and documented at [Introduction to Intelligent Apps](https://github.com/Azure/intro-to-intelligent-apps). This is a great source for learning Azure OpenAI step by step."
   ]
  },
  {
   "cell_type": "code",
   "execution_count": null,
   "metadata": {},
   "outputs": [],
   "source": [
    "import os\n",
    "import openai\n",
    "from openai import OpenAI\n",
    "import json\n",
    "from dotenv import load_dotenv\n",
    "\n",
    "\n",
    "# Load environment variables\n",
    "if load_dotenv():\n",
    "    print(\"Found OpenAPI Base Endpoint: \" + os.getenv(\"AZURE_OPENAI_ENDPOINT\"))\n",
    "else: \n",
    "    print(\"No file .env found\")\n",
    "\n",
    "# Setting up the deployment name\n",
    "deployment_name = os.getenv(\"AZURE_OPENAI_COMPLETION_DEPLOYMENT_NAME\")\n",
    "\n",
    "# This is set to `azure`\n",
    "openai.api_type = \"azure\"\n",
    "\n",
    "# The API key for your Azure OpenAI resource.\n",
    "openai.api_key = os.getenv(\"AZURE_OPENAI_API_KEY\")\n",
    "\n",
    "# The base URL for your Azure OpenAI resource. e.g. \"https://<your resource name>.openai.azure.com\"\n",
    "openai.api_base = os.getenv(\"AZURE_OPENAI_ENDPOINT\") \n",
    "\n",
    "# Currently Chat Completion API have the following versions available: 2023-07-01-preview\n",
    "openai.api_version = os.getenv(\"OPENAI_API_VERSION\") \n",
    "\n",
    "from openai import AzureOpenAI\n",
    " \n",
    "client = AzureOpenAI(\n",
    "  azure_endpoint = os.getenv(\"AZURE_OPENAI_ENDPOINT\"),\n",
    "  api_key = os.getenv(\"AZURE_OPENAI_API_KEY\"),\n",
    "  api_version=\"2023-12-01-preview\",\n",
    "  azure_deployment = os.getenv(\"AZURE_OPENAI_COMPLETION_DEPLOYMENT_NAME\")\n",
    ")"
   ]
  },
  {
   "cell_type": "markdown",
   "metadata": {},
   "source": [
    "Test that we can connect to OpenAI instance and do some basic chat"
   ]
  },
  {
   "cell_type": "code",
   "execution_count": null,
   "metadata": {},
   "outputs": [],
   "source": [
    "response = client.chat.completions.create(\n",
    "    model = os.getenv(\"AZURE_OPENAI_COMPLETION_DEPLOYMENT_NAME\"),\n",
    "    messages = [{\"role\" : \"assistant\", \"content\" : \"The one thing I love more than anything else is \"}],\n",
    ")\n",
    "\n",
    "print(response)"
   ]
  },
  {
   "cell_type": "markdown",
   "metadata": {},
   "source": [
    "Now setup a function that we can later call"
   ]
  },
  {
   "cell_type": "code",
   "execution_count": null,
   "metadata": {},
   "outputs": [],
   "source": [
    "import requests\n",
    "endpoint = os.getenv(\"SERVICE_NOW_ENDPOINT\")\n",
    "print(endpoint)\n",
    "user = os.getenv(\"SERVICE_NOW_USER\")\n",
    "password = os.getenv(\"SERVICE_NOW_PASSWORD\")\n",
    "\n",
    "def get_incident_details(incident_number):\n",
    "    \"\"\"\n",
    "    Fetches details of a specific incident from ServiceNow.\n",
    "\n",
    "    Parameters:\n",
    "    - incident_number: The number of the incident to fetch.\n",
    "\n",
    "    Returns:\n",
    "    A dictionary with the incident's ID, description, status, and last update time if found, otherwise None.\n",
    "    \"\"\"\n",
    "    # Construct the URL with the incident number as a query parameter\n",
    "    url = f\"{endpoint}/api/now/table/incident?number={incident_number}\"\n",
    "    \n",
    "    # Make the request to ServiceNow\n",
    "    response = requests.get(url, auth=(user, password))\n",
    "    \n",
    "    # Check if the request was successful\n",
    "    if response.status_code == 200:\n",
    "        data = response.json()\n",
    "        # Assuming the response contains results and we take the first one\n",
    "        if data['result']:\n",
    "            incident = data['result'][0]\n",
    "            # Extracting required details\n",
    "            details = {\n",
    "                'id': incident['sys_id'],\n",
    "                'description': incident['short_description'],\n",
    "                'status': incident['state'],\n",
    "                'last_updated': incident['sys_updated_on']\n",
    "            }\n",
    "            return details\n",
    "    else:\n",
    "        print(f\"Error fetching incident details: {response.status_code}\")\n",
    "    \n",
    "    return None"
   ]
  },
  {
   "cell_type": "markdown",
   "metadata": {},
   "source": [
    "Test the function alone"
   ]
  },
  {
   "cell_type": "code",
   "execution_count": null,
   "metadata": {},
   "outputs": [],
   "source": [
    "# ServiceNow parameters\n",
    "\n",
    "response = get_incident_details(\"INC0008111\")\n",
    "print(f\"Returned {response}\")"
   ]
  },
  {
   "cell_type": "markdown",
   "metadata": {},
   "source": [
    "Noew set this function up as a tool for Azure OpenAI"
   ]
  },
  {
   "cell_type": "code",
   "execution_count": 10,
   "metadata": {},
   "outputs": [],
   "source": [
    "# Example function hard coded to return the same weather\n",
    "# In production, this could be your backend API or an external API\n",
    "# not added for now to the definition of the function\n",
    "def get_current_weather(location, unit=\"fahrenheit\"):\n",
    "    \"\"\"Get the current weather in a given location\"\"\"\n",
    "    if \"tokyo\" in location.lower():\n",
    "        return json.dumps({\"location\": \"Tokyo\", \"temperature\": \"10\", \"unit\": unit})\n",
    "    elif \"san francisco\" in location.lower():\n",
    "        return json.dumps({\"location\": \"San Francisco\", \"temperature\": \"72\", \"unit\": unit})\n",
    "    elif \"paris\" in location.lower():\n",
    "        return json.dumps({\"location\": \"Paris\", \"temperature\": \"22\", \"unit\": unit})\n",
    "    else:\n",
    "        return json.dumps({\"location\": location, \"temperature\": \"unknown\"})\n",
    "\n",
    "# Define the functions to use\n",
    "tools = [\n",
    "    {\n",
    "        \"type\": \"function\",\n",
    "        \"function\": {\n",
    "            \"name\": \"get_incident_details\",\n",
    "            \"description\": \"Get the current weather in a given location\",\n",
    "            \"parameters\": {\n",
    "                \"type\": \"object\",\n",
    "                \"properties\": {\n",
    "                    \"incident_number\": {\n",
    "                        \"type\": \"string\",\n",
    "                        \"description\": \"the incident number to fetch\",\n",
    "                    },\n",
    "                    \"unit\": {\"type\": \"string\"},\n",
    "                },\n",
    "                \"required\": [\"incident_number\"],\n",
    "            },\n",
    "        },\n",
    "    }\n",
    "]\n",
    "\n",
    "def get_function_call(messages, tool_choice = \"auto\"):\n",
    "    \n",
    "\n",
    "    # Call the model with the user query (messages) and the functions defined in the functions parameter\n",
    "    response = client.chat.completions.create(\n",
    "        model = deployment_name,\n",
    "        messages = messages,\n",
    "        tools = tools,\n",
    "        tool_choice = tool_choice, \n",
    "    )\n",
    "\n",
    "    return response.choices[0].message"
   ]
  },
  {
   "cell_type": "markdown",
   "metadata": {},
   "source": [
    "Call OpenAI and see what tool it suggests can be used"
   ]
  },
  {
   "cell_type": "code",
   "execution_count": null,
   "metadata": {},
   "outputs": [],
   "source": [
    "first_message = [{\"role\": \"user\", \"content\": \"Can you get details of incident INC0008111?\"}]\n",
    "# 'auto' : Let the model decide what function to call\n",
    "print(\"Let the model decide what function to call:\")\n",
    "\n",
    "response_message = get_function_call(first_message, \"auto\")\n",
    "\n",
    "print(response_message)\n",
    "\n"
   ]
  },
  {
   "cell_type": "markdown",
   "metadata": {},
   "source": [
    "Now actually call the function using the suggested tool from the OpenAI response"
   ]
  },
  {
   "cell_type": "code",
   "execution_count": null,
   "metadata": {},
   "outputs": [],
   "source": [
    "tool_calls = response_message.tool_calls\n",
    "# Step 2: check if the model wanted to call a function\n",
    "if tool_calls:\n",
    "    print(\"it decided to call the following function:\")\n",
    "    print(tool_calls)\n",
    "    # Step 3: call the function\n",
    "    # Note: the JSON response may not always be valid; be sure to handle errors\n",
    "    available_functions = {\n",
    "        \"get_incident_details\": get_incident_details,\n",
    "    }  # only one function in this example, but you can have multiple\n",
    "    first_message.append(response_message)  # extend conversation with assistant's reply\n",
    "    # Step 4: send the info for each function call and function response to the model\n",
    "    for tool_call in tool_calls:\n",
    "        function_name = tool_call.function.name\n",
    "        function_to_call = available_functions[function_name]\n",
    "        function_args = json.loads(tool_call.function.arguments)\n",
    "        function_response = function_to_call(\n",
    "            incident_number=function_args.get(\"incident_number\")\n",
    "        )\n",
    "        first_message.append(\n",
    "            {\n",
    "                \"tool_call_id\": tool_call.id,\n",
    "                \"role\": \"tool\",\n",
    "                \"name\": function_name,\n",
    "                \"content\": function_response,\n",
    "            }\n",
    "        )\n",
    "        print(first_message)\n",
    "        # extend conversation with function response\n",
    "        second_response = client.chat.completions.create(\n",
    "            model = deployment_name,\n",
    "            messages = first_message\n",
    "        )\n",
    "        print(\"The model responds with the following message:\")\n",
    "        print(second_response.choices[0].message)\n",
    "    # get a new response from the model where it can see the function response\n",
    "\n",
    "\n",
    "# 'none' : Don't call any function \n",
    "#print(\"Don't call any function:\")\n",
    "#print(get_function_call(first_message, \"none\")[\"choices\"][0]['message'])\n",
    "\n",
    "# force a specific function call\n",
    "#print(\"Force a specific function call:\")\n",
    "#print(get_function_call(first_message, function_call={\"name\": \"get_current_weather\"})[\"choices\"][0]['message'])"
   ]
  }
 ],
 "metadata": {
  "kernelspec": {
   "display_name": "Python 3",
   "language": "python",
   "name": "python3"
  },
  "language_info": {
   "codemirror_mode": {
    "name": "ipython",
    "version": 3
   },
   "file_extension": ".py",
   "mimetype": "text/x-python",
   "name": "python",
   "nbconvert_exporter": "python",
   "pygments_lexer": "ipython3",
   "version": "3.11.9"
  }
 },
 "nbformat": 4,
 "nbformat_minor": 2
}
